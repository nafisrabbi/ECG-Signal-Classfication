{
  "nbformat": 4,
  "nbformat_minor": 0,
  "metadata": {
    "colab": {
      "provenance": [],
      "mount_file_id": "1BM1lNxxJI_7TEckO_lT0Tgfo5hkdjCrl",
      "authorship_tag": "ABX9TyM8/kbGmZKgzgDwC5RZ1eVv"
    },
    "kernelspec": {
      "name": "python3",
      "display_name": "Python 3"
    },
    "language_info": {
      "name": "python"
    },
    "accelerator": "TPU",
    "gpuClass": "standard"
  },
  "cells": [
    {
      "cell_type": "markdown",
      "source": [
        "**Essential Libraries**"
      ],
      "metadata": {
        "id": "zn28e0AcDljT"
      }
    },
    {
      "cell_type": "code",
      "execution_count": 29,
      "metadata": {
        "id": "1s0mqLuZlKjl"
      },
      "outputs": [],
      "source": [
        "import tensorflow as tf\n",
        "from tensorflow import keras\n",
        "import pandas as pd\n",
        "import matplotlib.pyplot as plt\n",
        "from tensorflow.keras import Sequential\n",
        "from tensorflow.keras import datasets, layers, models\n",
        "from keras.layers import Conv1D, MaxPooling1D\n",
        "from keras.layers import Activation, Dropout, Flatten, Dense\n",
        "from sklearn.metrics import recall_score, precision_score, f1_score, accuracy_score\n",
        "from sklearn.svm import SVC\n",
        "%matplotlib inline\n",
        "import numpy as np\n",
        "import seaborn as sns\n",
        "from sklearn.metrics import confusion_matrix , classification_report\n",
        "import warnings\n",
        "warnings.filterwarnings(\"ignore\")\n",
        "from sklearn.model_selection import train_test_split\n",
        "from sklearn import svm\n",
        "from sklearn.ensemble import RandomForestClassifier\n",
        "from sklearn.linear_model import LogisticRegression\n",
        "from sklearn.naive_bayes import GaussianNB, MultinomialNB\n",
        "from sklearn.tree import DecisionTreeClassifier\n",
        "from sklearn.model_selection import GridSearchCV\n",
        "from sklearn.model_selection import ShuffleSplit\n",
        "from imblearn.over_sampling import SMOTE\n",
        "from sklearn.pipeline import make_pipeline\n",
        "from sklearn.pipeline import Pipeline\n",
        "from sklearn.preprocessing import StandardScaler"
      ]
    },
    {
      "cell_type": "markdown",
      "source": [
        "**Loading the Dataset**"
      ],
      "metadata": {
        "id": "D2vVKyRaDze5"
      }
    },
    {
      "cell_type": "code",
      "source": [
        "data_train = pd.read_csv(\"/content/drive/MyDrive/Work/Thesis/mitbih_train.csv\", header=None)\n",
        "data_test = pd.read_csv(\"/content/drive/MyDrive/Work/Thesis/mitbih_test.csv\", header=None)"
      ],
      "metadata": {
        "id": "dbGSMIYll1hY"
      },
      "execution_count": 30,
      "outputs": []
    },
    {
      "cell_type": "code",
      "source": [
        "data_test.drop(data_test[data_test[187] == 0].index, inplace = True)"
      ],
      "metadata": {
        "id": "7gJtDc8Wl80n"
      },
      "execution_count": 31,
      "outputs": []
    },
    {
      "cell_type": "code",
      "source": [
        "data = pd.concat([ data_train, data_test ], axis=0)"
      ],
      "metadata": {
        "id": "7jpwuW89mE0H"
      },
      "execution_count": 32,
      "outputs": []
    },
    {
      "cell_type": "code",
      "source": [
        "data.head()"
      ],
      "metadata": {
        "colab": {
          "base_uri": "https://localhost:8080/",
          "height": 235
        },
        "id": "yFY3N-PsmHhv",
        "outputId": "8f328c9c-9aa1-4403-c8c3-401844964bc8"
      },
      "execution_count": 33,
      "outputs": [
        {
          "output_type": "execute_result",
          "data": {
            "text/plain": [
              "        0         1         2         3         4         5         6    \\\n",
              "0  0.977941  0.926471  0.681373  0.245098  0.154412  0.191176  0.151961   \n",
              "1  0.960114  0.863248  0.461538  0.196581  0.094017  0.125356  0.099715   \n",
              "2  1.000000  0.659459  0.186486  0.070270  0.070270  0.059459  0.056757   \n",
              "3  0.925414  0.665746  0.541436  0.276243  0.196133  0.077348  0.071823   \n",
              "4  0.967136  1.000000  0.830986  0.586854  0.356808  0.248826  0.145540   \n",
              "\n",
              "        7         8         9    ...  178  179  180  181  182  183  184  185  \\\n",
              "0  0.085784  0.058824  0.049020  ...  0.0  0.0  0.0  0.0  0.0  0.0  0.0  0.0   \n",
              "1  0.088319  0.074074  0.082621  ...  0.0  0.0  0.0  0.0  0.0  0.0  0.0  0.0   \n",
              "2  0.043243  0.054054  0.045946  ...  0.0  0.0  0.0  0.0  0.0  0.0  0.0  0.0   \n",
              "3  0.060773  0.066298  0.058011  ...  0.0  0.0  0.0  0.0  0.0  0.0  0.0  0.0   \n",
              "4  0.089202  0.117371  0.150235  ...  0.0  0.0  0.0  0.0  0.0  0.0  0.0  0.0   \n",
              "\n",
              "   186  187  \n",
              "0  0.0  0.0  \n",
              "1  0.0  0.0  \n",
              "2  0.0  0.0  \n",
              "3  0.0  0.0  \n",
              "4  0.0  0.0  \n",
              "\n",
              "[5 rows x 188 columns]"
            ],
            "text/html": [
              "\n",
              "  <div id=\"df-186df39b-e2da-4336-b0d9-d7580550dee0\">\n",
              "    <div class=\"colab-df-container\">\n",
              "      <div>\n",
              "<style scoped>\n",
              "    .dataframe tbody tr th:only-of-type {\n",
              "        vertical-align: middle;\n",
              "    }\n",
              "\n",
              "    .dataframe tbody tr th {\n",
              "        vertical-align: top;\n",
              "    }\n",
              "\n",
              "    .dataframe thead th {\n",
              "        text-align: right;\n",
              "    }\n",
              "</style>\n",
              "<table border=\"1\" class=\"dataframe\">\n",
              "  <thead>\n",
              "    <tr style=\"text-align: right;\">\n",
              "      <th></th>\n",
              "      <th>0</th>\n",
              "      <th>1</th>\n",
              "      <th>2</th>\n",
              "      <th>3</th>\n",
              "      <th>4</th>\n",
              "      <th>5</th>\n",
              "      <th>6</th>\n",
              "      <th>7</th>\n",
              "      <th>8</th>\n",
              "      <th>9</th>\n",
              "      <th>...</th>\n",
              "      <th>178</th>\n",
              "      <th>179</th>\n",
              "      <th>180</th>\n",
              "      <th>181</th>\n",
              "      <th>182</th>\n",
              "      <th>183</th>\n",
              "      <th>184</th>\n",
              "      <th>185</th>\n",
              "      <th>186</th>\n",
              "      <th>187</th>\n",
              "    </tr>\n",
              "  </thead>\n",
              "  <tbody>\n",
              "    <tr>\n",
              "      <th>0</th>\n",
              "      <td>0.977941</td>\n",
              "      <td>0.926471</td>\n",
              "      <td>0.681373</td>\n",
              "      <td>0.245098</td>\n",
              "      <td>0.154412</td>\n",
              "      <td>0.191176</td>\n",
              "      <td>0.151961</td>\n",
              "      <td>0.085784</td>\n",
              "      <td>0.058824</td>\n",
              "      <td>0.049020</td>\n",
              "      <td>...</td>\n",
              "      <td>0.0</td>\n",
              "      <td>0.0</td>\n",
              "      <td>0.0</td>\n",
              "      <td>0.0</td>\n",
              "      <td>0.0</td>\n",
              "      <td>0.0</td>\n",
              "      <td>0.0</td>\n",
              "      <td>0.0</td>\n",
              "      <td>0.0</td>\n",
              "      <td>0.0</td>\n",
              "    </tr>\n",
              "    <tr>\n",
              "      <th>1</th>\n",
              "      <td>0.960114</td>\n",
              "      <td>0.863248</td>\n",
              "      <td>0.461538</td>\n",
              "      <td>0.196581</td>\n",
              "      <td>0.094017</td>\n",
              "      <td>0.125356</td>\n",
              "      <td>0.099715</td>\n",
              "      <td>0.088319</td>\n",
              "      <td>0.074074</td>\n",
              "      <td>0.082621</td>\n",
              "      <td>...</td>\n",
              "      <td>0.0</td>\n",
              "      <td>0.0</td>\n",
              "      <td>0.0</td>\n",
              "      <td>0.0</td>\n",
              "      <td>0.0</td>\n",
              "      <td>0.0</td>\n",
              "      <td>0.0</td>\n",
              "      <td>0.0</td>\n",
              "      <td>0.0</td>\n",
              "      <td>0.0</td>\n",
              "    </tr>\n",
              "    <tr>\n",
              "      <th>2</th>\n",
              "      <td>1.000000</td>\n",
              "      <td>0.659459</td>\n",
              "      <td>0.186486</td>\n",
              "      <td>0.070270</td>\n",
              "      <td>0.070270</td>\n",
              "      <td>0.059459</td>\n",
              "      <td>0.056757</td>\n",
              "      <td>0.043243</td>\n",
              "      <td>0.054054</td>\n",
              "      <td>0.045946</td>\n",
              "      <td>...</td>\n",
              "      <td>0.0</td>\n",
              "      <td>0.0</td>\n",
              "      <td>0.0</td>\n",
              "      <td>0.0</td>\n",
              "      <td>0.0</td>\n",
              "      <td>0.0</td>\n",
              "      <td>0.0</td>\n",
              "      <td>0.0</td>\n",
              "      <td>0.0</td>\n",
              "      <td>0.0</td>\n",
              "    </tr>\n",
              "    <tr>\n",
              "      <th>3</th>\n",
              "      <td>0.925414</td>\n",
              "      <td>0.665746</td>\n",
              "      <td>0.541436</td>\n",
              "      <td>0.276243</td>\n",
              "      <td>0.196133</td>\n",
              "      <td>0.077348</td>\n",
              "      <td>0.071823</td>\n",
              "      <td>0.060773</td>\n",
              "      <td>0.066298</td>\n",
              "      <td>0.058011</td>\n",
              "      <td>...</td>\n",
              "      <td>0.0</td>\n",
              "      <td>0.0</td>\n",
              "      <td>0.0</td>\n",
              "      <td>0.0</td>\n",
              "      <td>0.0</td>\n",
              "      <td>0.0</td>\n",
              "      <td>0.0</td>\n",
              "      <td>0.0</td>\n",
              "      <td>0.0</td>\n",
              "      <td>0.0</td>\n",
              "    </tr>\n",
              "    <tr>\n",
              "      <th>4</th>\n",
              "      <td>0.967136</td>\n",
              "      <td>1.000000</td>\n",
              "      <td>0.830986</td>\n",
              "      <td>0.586854</td>\n",
              "      <td>0.356808</td>\n",
              "      <td>0.248826</td>\n",
              "      <td>0.145540</td>\n",
              "      <td>0.089202</td>\n",
              "      <td>0.117371</td>\n",
              "      <td>0.150235</td>\n",
              "      <td>...</td>\n",
              "      <td>0.0</td>\n",
              "      <td>0.0</td>\n",
              "      <td>0.0</td>\n",
              "      <td>0.0</td>\n",
              "      <td>0.0</td>\n",
              "      <td>0.0</td>\n",
              "      <td>0.0</td>\n",
              "      <td>0.0</td>\n",
              "      <td>0.0</td>\n",
              "      <td>0.0</td>\n",
              "    </tr>\n",
              "  </tbody>\n",
              "</table>\n",
              "<p>5 rows × 188 columns</p>\n",
              "</div>\n",
              "      <button class=\"colab-df-convert\" onclick=\"convertToInteractive('df-186df39b-e2da-4336-b0d9-d7580550dee0')\"\n",
              "              title=\"Convert this dataframe to an interactive table.\"\n",
              "              style=\"display:none;\">\n",
              "        \n",
              "  <svg xmlns=\"http://www.w3.org/2000/svg\" height=\"24px\"viewBox=\"0 0 24 24\"\n",
              "       width=\"24px\">\n",
              "    <path d=\"M0 0h24v24H0V0z\" fill=\"none\"/>\n",
              "    <path d=\"M18.56 5.44l.94 2.06.94-2.06 2.06-.94-2.06-.94-.94-2.06-.94 2.06-2.06.94zm-11 1L8.5 8.5l.94-2.06 2.06-.94-2.06-.94L8.5 2.5l-.94 2.06-2.06.94zm10 10l.94 2.06.94-2.06 2.06-.94-2.06-.94-.94-2.06-.94 2.06-2.06.94z\"/><path d=\"M17.41 7.96l-1.37-1.37c-.4-.4-.92-.59-1.43-.59-.52 0-1.04.2-1.43.59L10.3 9.45l-7.72 7.72c-.78.78-.78 2.05 0 2.83L4 21.41c.39.39.9.59 1.41.59.51 0 1.02-.2 1.41-.59l7.78-7.78 2.81-2.81c.8-.78.8-2.07 0-2.86zM5.41 20L4 18.59l7.72-7.72 1.47 1.35L5.41 20z\"/>\n",
              "  </svg>\n",
              "      </button>\n",
              "      \n",
              "  <style>\n",
              "    .colab-df-container {\n",
              "      display:flex;\n",
              "      flex-wrap:wrap;\n",
              "      gap: 12px;\n",
              "    }\n",
              "\n",
              "    .colab-df-convert {\n",
              "      background-color: #E8F0FE;\n",
              "      border: none;\n",
              "      border-radius: 50%;\n",
              "      cursor: pointer;\n",
              "      display: none;\n",
              "      fill: #1967D2;\n",
              "      height: 32px;\n",
              "      padding: 0 0 0 0;\n",
              "      width: 32px;\n",
              "    }\n",
              "\n",
              "    .colab-df-convert:hover {\n",
              "      background-color: #E2EBFA;\n",
              "      box-shadow: 0px 1px 2px rgba(60, 64, 67, 0.3), 0px 1px 3px 1px rgba(60, 64, 67, 0.15);\n",
              "      fill: #174EA6;\n",
              "    }\n",
              "\n",
              "    [theme=dark] .colab-df-convert {\n",
              "      background-color: #3B4455;\n",
              "      fill: #D2E3FC;\n",
              "    }\n",
              "\n",
              "    [theme=dark] .colab-df-convert:hover {\n",
              "      background-color: #434B5C;\n",
              "      box-shadow: 0px 1px 3px 1px rgba(0, 0, 0, 0.15);\n",
              "      filter: drop-shadow(0px 1px 2px rgba(0, 0, 0, 0.3));\n",
              "      fill: #FFFFFF;\n",
              "    }\n",
              "  </style>\n",
              "\n",
              "      <script>\n",
              "        const buttonEl =\n",
              "          document.querySelector('#df-186df39b-e2da-4336-b0d9-d7580550dee0 button.colab-df-convert');\n",
              "        buttonEl.style.display =\n",
              "          google.colab.kernel.accessAllowed ? 'block' : 'none';\n",
              "\n",
              "        async function convertToInteractive(key) {\n",
              "          const element = document.querySelector('#df-186df39b-e2da-4336-b0d9-d7580550dee0');\n",
              "          const dataTable =\n",
              "            await google.colab.kernel.invokeFunction('convertToInteractive',\n",
              "                                                     [key], {});\n",
              "          if (!dataTable) return;\n",
              "\n",
              "          const docLinkHtml = 'Like what you see? Visit the ' +\n",
              "            '<a target=\"_blank\" href=https://colab.research.google.com/notebooks/data_table.ipynb>data table notebook</a>'\n",
              "            + ' to learn more about interactive tables.';\n",
              "          element.innerHTML = '';\n",
              "          dataTable['output_type'] = 'display_data';\n",
              "          await google.colab.output.renderOutput(dataTable, element);\n",
              "          const docLink = document.createElement('div');\n",
              "          docLink.innerHTML = docLinkHtml;\n",
              "          element.appendChild(docLink);\n",
              "        }\n",
              "      </script>\n",
              "    </div>\n",
              "  </div>\n",
              "  "
            ]
          },
          "metadata": {},
          "execution_count": 33
        }
      ]
    },
    {
      "cell_type": "code",
      "source": [
        "data.tail()"
      ],
      "metadata": {
        "colab": {
          "base_uri": "https://localhost:8080/",
          "height": 235
        },
        "id": "r8nhFZPqmJ9P",
        "outputId": "ad115a96-ba9c-422b-948f-ed6e3a42b17d"
      },
      "execution_count": 34,
      "outputs": [
        {
          "output_type": "execute_result",
          "data": {
            "text/plain": [
              "            0         1         2         3         4         5         6    \\\n",
              "21887  0.928736  0.871264  0.804598  0.742529  0.650575  0.535632  0.394253   \n",
              "21888  0.802691  0.692078  0.587444  0.446936  0.318386  0.189836  0.118087   \n",
              "21889  1.000000  0.967359  0.620178  0.347181  0.139466  0.089021  0.103858   \n",
              "21890  0.984127  0.567460  0.607143  0.583333  0.607143  0.575397  0.575397   \n",
              "21891  0.973970  0.913232  0.865510  0.823210  0.746204  0.642082  0.547722   \n",
              "\n",
              "            7         8         9    ...  178  179  180  181  182  183  184  \\\n",
              "21887  0.250575  0.140230  0.102299  ...  0.0  0.0  0.0  0.0  0.0  0.0  0.0   \n",
              "21888  0.077728  0.112108  0.152466  ...  0.0  0.0  0.0  0.0  0.0  0.0  0.0   \n",
              "21889  0.100890  0.106825  0.100890  ...  0.0  0.0  0.0  0.0  0.0  0.0  0.0   \n",
              "21890  0.488095  0.392857  0.238095  ...  0.0  0.0  0.0  0.0  0.0  0.0  0.0   \n",
              "21891  0.426247  0.325380  0.279826  ...  0.0  0.0  0.0  0.0  0.0  0.0  0.0   \n",
              "\n",
              "       185  186  187  \n",
              "21887  0.0  0.0  4.0  \n",
              "21888  0.0  0.0  4.0  \n",
              "21889  0.0  0.0  4.0  \n",
              "21890  0.0  0.0  4.0  \n",
              "21891  0.0  0.0  4.0  \n",
              "\n",
              "[5 rows x 188 columns]"
            ],
            "text/html": [
              "\n",
              "  <div id=\"df-b37dedf7-eec5-432b-85d1-0c2ffc83a6d0\">\n",
              "    <div class=\"colab-df-container\">\n",
              "      <div>\n",
              "<style scoped>\n",
              "    .dataframe tbody tr th:only-of-type {\n",
              "        vertical-align: middle;\n",
              "    }\n",
              "\n",
              "    .dataframe tbody tr th {\n",
              "        vertical-align: top;\n",
              "    }\n",
              "\n",
              "    .dataframe thead th {\n",
              "        text-align: right;\n",
              "    }\n",
              "</style>\n",
              "<table border=\"1\" class=\"dataframe\">\n",
              "  <thead>\n",
              "    <tr style=\"text-align: right;\">\n",
              "      <th></th>\n",
              "      <th>0</th>\n",
              "      <th>1</th>\n",
              "      <th>2</th>\n",
              "      <th>3</th>\n",
              "      <th>4</th>\n",
              "      <th>5</th>\n",
              "      <th>6</th>\n",
              "      <th>7</th>\n",
              "      <th>8</th>\n",
              "      <th>9</th>\n",
              "      <th>...</th>\n",
              "      <th>178</th>\n",
              "      <th>179</th>\n",
              "      <th>180</th>\n",
              "      <th>181</th>\n",
              "      <th>182</th>\n",
              "      <th>183</th>\n",
              "      <th>184</th>\n",
              "      <th>185</th>\n",
              "      <th>186</th>\n",
              "      <th>187</th>\n",
              "    </tr>\n",
              "  </thead>\n",
              "  <tbody>\n",
              "    <tr>\n",
              "      <th>21887</th>\n",
              "      <td>0.928736</td>\n",
              "      <td>0.871264</td>\n",
              "      <td>0.804598</td>\n",
              "      <td>0.742529</td>\n",
              "      <td>0.650575</td>\n",
              "      <td>0.535632</td>\n",
              "      <td>0.394253</td>\n",
              "      <td>0.250575</td>\n",
              "      <td>0.140230</td>\n",
              "      <td>0.102299</td>\n",
              "      <td>...</td>\n",
              "      <td>0.0</td>\n",
              "      <td>0.0</td>\n",
              "      <td>0.0</td>\n",
              "      <td>0.0</td>\n",
              "      <td>0.0</td>\n",
              "      <td>0.0</td>\n",
              "      <td>0.0</td>\n",
              "      <td>0.0</td>\n",
              "      <td>0.0</td>\n",
              "      <td>4.0</td>\n",
              "    </tr>\n",
              "    <tr>\n",
              "      <th>21888</th>\n",
              "      <td>0.802691</td>\n",
              "      <td>0.692078</td>\n",
              "      <td>0.587444</td>\n",
              "      <td>0.446936</td>\n",
              "      <td>0.318386</td>\n",
              "      <td>0.189836</td>\n",
              "      <td>0.118087</td>\n",
              "      <td>0.077728</td>\n",
              "      <td>0.112108</td>\n",
              "      <td>0.152466</td>\n",
              "      <td>...</td>\n",
              "      <td>0.0</td>\n",
              "      <td>0.0</td>\n",
              "      <td>0.0</td>\n",
              "      <td>0.0</td>\n",
              "      <td>0.0</td>\n",
              "      <td>0.0</td>\n",
              "      <td>0.0</td>\n",
              "      <td>0.0</td>\n",
              "      <td>0.0</td>\n",
              "      <td>4.0</td>\n",
              "    </tr>\n",
              "    <tr>\n",
              "      <th>21889</th>\n",
              "      <td>1.000000</td>\n",
              "      <td>0.967359</td>\n",
              "      <td>0.620178</td>\n",
              "      <td>0.347181</td>\n",
              "      <td>0.139466</td>\n",
              "      <td>0.089021</td>\n",
              "      <td>0.103858</td>\n",
              "      <td>0.100890</td>\n",
              "      <td>0.106825</td>\n",
              "      <td>0.100890</td>\n",
              "      <td>...</td>\n",
              "      <td>0.0</td>\n",
              "      <td>0.0</td>\n",
              "      <td>0.0</td>\n",
              "      <td>0.0</td>\n",
              "      <td>0.0</td>\n",
              "      <td>0.0</td>\n",
              "      <td>0.0</td>\n",
              "      <td>0.0</td>\n",
              "      <td>0.0</td>\n",
              "      <td>4.0</td>\n",
              "    </tr>\n",
              "    <tr>\n",
              "      <th>21890</th>\n",
              "      <td>0.984127</td>\n",
              "      <td>0.567460</td>\n",
              "      <td>0.607143</td>\n",
              "      <td>0.583333</td>\n",
              "      <td>0.607143</td>\n",
              "      <td>0.575397</td>\n",
              "      <td>0.575397</td>\n",
              "      <td>0.488095</td>\n",
              "      <td>0.392857</td>\n",
              "      <td>0.238095</td>\n",
              "      <td>...</td>\n",
              "      <td>0.0</td>\n",
              "      <td>0.0</td>\n",
              "      <td>0.0</td>\n",
              "      <td>0.0</td>\n",
              "      <td>0.0</td>\n",
              "      <td>0.0</td>\n",
              "      <td>0.0</td>\n",
              "      <td>0.0</td>\n",
              "      <td>0.0</td>\n",
              "      <td>4.0</td>\n",
              "    </tr>\n",
              "    <tr>\n",
              "      <th>21891</th>\n",
              "      <td>0.973970</td>\n",
              "      <td>0.913232</td>\n",
              "      <td>0.865510</td>\n",
              "      <td>0.823210</td>\n",
              "      <td>0.746204</td>\n",
              "      <td>0.642082</td>\n",
              "      <td>0.547722</td>\n",
              "      <td>0.426247</td>\n",
              "      <td>0.325380</td>\n",
              "      <td>0.279826</td>\n",
              "      <td>...</td>\n",
              "      <td>0.0</td>\n",
              "      <td>0.0</td>\n",
              "      <td>0.0</td>\n",
              "      <td>0.0</td>\n",
              "      <td>0.0</td>\n",
              "      <td>0.0</td>\n",
              "      <td>0.0</td>\n",
              "      <td>0.0</td>\n",
              "      <td>0.0</td>\n",
              "      <td>4.0</td>\n",
              "    </tr>\n",
              "  </tbody>\n",
              "</table>\n",
              "<p>5 rows × 188 columns</p>\n",
              "</div>\n",
              "      <button class=\"colab-df-convert\" onclick=\"convertToInteractive('df-b37dedf7-eec5-432b-85d1-0c2ffc83a6d0')\"\n",
              "              title=\"Convert this dataframe to an interactive table.\"\n",
              "              style=\"display:none;\">\n",
              "        \n",
              "  <svg xmlns=\"http://www.w3.org/2000/svg\" height=\"24px\"viewBox=\"0 0 24 24\"\n",
              "       width=\"24px\">\n",
              "    <path d=\"M0 0h24v24H0V0z\" fill=\"none\"/>\n",
              "    <path d=\"M18.56 5.44l.94 2.06.94-2.06 2.06-.94-2.06-.94-.94-2.06-.94 2.06-2.06.94zm-11 1L8.5 8.5l.94-2.06 2.06-.94-2.06-.94L8.5 2.5l-.94 2.06-2.06.94zm10 10l.94 2.06.94-2.06 2.06-.94-2.06-.94-.94-2.06-.94 2.06-2.06.94z\"/><path d=\"M17.41 7.96l-1.37-1.37c-.4-.4-.92-.59-1.43-.59-.52 0-1.04.2-1.43.59L10.3 9.45l-7.72 7.72c-.78.78-.78 2.05 0 2.83L4 21.41c.39.39.9.59 1.41.59.51 0 1.02-.2 1.41-.59l7.78-7.78 2.81-2.81c.8-.78.8-2.07 0-2.86zM5.41 20L4 18.59l7.72-7.72 1.47 1.35L5.41 20z\"/>\n",
              "  </svg>\n",
              "      </button>\n",
              "      \n",
              "  <style>\n",
              "    .colab-df-container {\n",
              "      display:flex;\n",
              "      flex-wrap:wrap;\n",
              "      gap: 12px;\n",
              "    }\n",
              "\n",
              "    .colab-df-convert {\n",
              "      background-color: #E8F0FE;\n",
              "      border: none;\n",
              "      border-radius: 50%;\n",
              "      cursor: pointer;\n",
              "      display: none;\n",
              "      fill: #1967D2;\n",
              "      height: 32px;\n",
              "      padding: 0 0 0 0;\n",
              "      width: 32px;\n",
              "    }\n",
              "\n",
              "    .colab-df-convert:hover {\n",
              "      background-color: #E2EBFA;\n",
              "      box-shadow: 0px 1px 2px rgba(60, 64, 67, 0.3), 0px 1px 3px 1px rgba(60, 64, 67, 0.15);\n",
              "      fill: #174EA6;\n",
              "    }\n",
              "\n",
              "    [theme=dark] .colab-df-convert {\n",
              "      background-color: #3B4455;\n",
              "      fill: #D2E3FC;\n",
              "    }\n",
              "\n",
              "    [theme=dark] .colab-df-convert:hover {\n",
              "      background-color: #434B5C;\n",
              "      box-shadow: 0px 1px 3px 1px rgba(0, 0, 0, 0.15);\n",
              "      filter: drop-shadow(0px 1px 2px rgba(0, 0, 0, 0.3));\n",
              "      fill: #FFFFFF;\n",
              "    }\n",
              "  </style>\n",
              "\n",
              "      <script>\n",
              "        const buttonEl =\n",
              "          document.querySelector('#df-b37dedf7-eec5-432b-85d1-0c2ffc83a6d0 button.colab-df-convert');\n",
              "        buttonEl.style.display =\n",
              "          google.colab.kernel.accessAllowed ? 'block' : 'none';\n",
              "\n",
              "        async function convertToInteractive(key) {\n",
              "          const element = document.querySelector('#df-b37dedf7-eec5-432b-85d1-0c2ffc83a6d0');\n",
              "          const dataTable =\n",
              "            await google.colab.kernel.invokeFunction('convertToInteractive',\n",
              "                                                     [key], {});\n",
              "          if (!dataTable) return;\n",
              "\n",
              "          const docLinkHtml = 'Like what you see? Visit the ' +\n",
              "            '<a target=\"_blank\" href=https://colab.research.google.com/notebooks/data_table.ipynb>data table notebook</a>'\n",
              "            + ' to learn more about interactive tables.';\n",
              "          element.innerHTML = '';\n",
              "          dataTable['output_type'] = 'display_data';\n",
              "          await google.colab.output.renderOutput(dataTable, element);\n",
              "          const docLink = document.createElement('div');\n",
              "          docLink.innerHTML = docLinkHtml;\n",
              "          element.appendChild(docLink);\n",
              "        }\n",
              "      </script>\n",
              "    </div>\n",
              "  </div>\n",
              "  "
            ]
          },
          "metadata": {},
          "execution_count": 34
        }
      ]
    },
    {
      "cell_type": "markdown",
      "source": [
        "**Data Analysis**"
      ],
      "metadata": {
        "id": "11V93BJFD8np"
      }
    },
    {
      "cell_type": "code",
      "source": [
        "data.shape"
      ],
      "metadata": {
        "colab": {
          "base_uri": "https://localhost:8080/"
        },
        "id": "mHeMHnQymLBf",
        "outputId": "eda5698a-dee4-428f-c768-f73b627340f0"
      },
      "execution_count": 35,
      "outputs": [
        {
          "output_type": "execute_result",
          "data": {
            "text/plain": [
              "(91328, 188)"
            ]
          },
          "metadata": {},
          "execution_count": 35
        }
      ]
    },
    {
      "cell_type": "code",
      "source": [
        "sns.countplot(x=data.columns[-1], data=data)"
      ],
      "metadata": {
        "colab": {
          "base_uri": "https://localhost:8080/",
          "height": 296
        },
        "id": "dn4e3XLfmP4f",
        "outputId": "e7edc641-cf9d-4e5a-9691-3f5ab8bf3d1b"
      },
      "execution_count": 36,
      "outputs": [
        {
          "output_type": "execute_result",
          "data": {
            "text/plain": [
              "<matplotlib.axes._subplots.AxesSubplot at 0x7f7f258fd8b0>"
            ]
          },
          "metadata": {},
          "execution_count": 36
        },
        {
          "output_type": "display_data",
          "data": {
            "text/plain": [
              "<Figure size 432x288 with 1 Axes>"
            ],
            "image/png": "[encoded data removed]"
          },
          "metadata": {
            "needs_background": "light"
          }
        }
      ]
    },
    {
      "cell_type": "code",
      "source": [
        "sns.countplot(x=data.columns[-1], data=data_test)"
      ],
      "metadata": {
        "colab": {
          "base_uri": "https://localhost:8080/",
          "height": 296
        },
        "id": "RxS_G9KDmRXm",
        "outputId": "632fde93-b71e-4022-f9c2-438ee46475a2"
      },
      "execution_count": 37,
      "outputs": [
        {
          "output_type": "execute_result",
          "data": {
            "text/plain": [
              "<matplotlib.axes._subplots.AxesSubplot at 0x7f7f200c91c0>"
            ]
          },
          "metadata": {},
          "execution_count": 37
        },
        {
          "output_type": "display_data",
          "data": {
            "text/plain": [
              "<Figure size 432x288 with 1 Axes>"
            ],
            "image/png": "[encoded data removed]"
          },
          "metadata": {
            "needs_background": "light"
          }
        }
      ]
    },
    {
      "cell_type": "code",
      "source": [
        "X = data.iloc[:, 0:-1]\n",
        "y = data.iloc[:, -1]\n",
        "X = np.array(X)\n",
        "y = np.array(y)"
      ],
      "metadata": {
        "id": "LK14MzWdmbY3"
      },
      "execution_count": 38,
      "outputs": []
    },
    {
      "cell_type": "code",
      "source": [
        "print('Shape of X:', X.shape)\n",
        "print('Shape of y:', y.shape)"
      ],
      "metadata": {
        "colab": {
          "base_uri": "https://localhost:8080/"
        },
        "id": "1tMGxyNcmdoe",
        "outputId": "7c0dc0b2-a2f4-4812-b006-cec659637106"
      },
      "execution_count": 39,
      "outputs": [
        {
          "output_type": "stream",
          "name": "stdout",
          "text": [
            "Shape of X: (91328, 187)\n",
            "Shape of y: (91328,)\n"
          ]
        }
      ]
    },
    {
      "cell_type": "markdown",
      "source": [
        "**Plottng the Data**"
      ],
      "metadata": {
        "id": "ZcpS3P99EIAo"
      }
    },
    {
      "cell_type": "code",
      "source": [
        "C0 = np.argwhere(y == 0).flatten()\n",
        "C1 = np.argwhere(y == 1).flatten()\n",
        "C2 = np.argwhere(y == 2).flatten()\n",
        "C3 = np.argwhere(y == 3).flatten()\n",
        "C4 = np.argwhere(y == 4).flatten()"
      ],
      "metadata": {
        "id": "gofy3ZbVmgbe"
      },
      "execution_count": 40,
      "outputs": []
    },
    {
      "cell_type": "code",
      "source": [
        "x = np.arange(0, 187)*8/1000\n",
        "\n",
        "plt.figure(figsize=(12,12))\n",
        "plt.subplot(5, 1, 1)\n",
        "\n",
        "plt.plot(x, X[C0, :][0], label=\"Cat. N\")\n",
        "plt.title(\"1-beat ECG for category N\", fontsize=20)\n",
        "plt.ylabel(\"Amplitude\", fontsize=15)\n",
        "plt.xlabel(\"Time (ms)\", fontsize=15)\n",
        "\n",
        "plt.subplot(5,1,2)\n",
        "plt.plot(x, X[C1, :][0], label=\"Cat. S\")\n",
        "plt.title(\"1-beat ECG for category S\", fontsize=20)\n",
        "plt.ylabel(\"Amplitude\", fontsize=15)\n",
        "plt.xlabel(\"Time (ms)\", fontsize=15)\n",
        "\n",
        "plt.subplot(5,1,3)\n",
        "plt.plot(x, X[C2, :][0], label=\"Cat. V\")\n",
        "plt.title(\"1-beat ECG for category V\", fontsize=20)\n",
        "plt.ylabel(\"Amplitude\", fontsize=15)\n",
        "plt.xlabel(\"Time (ms)\", fontsize=15)\n",
        "\n",
        "plt.subplot(5,1, 4)\n",
        "plt.plot(x, X[C3, :][0], label=\"Cat. F\")\n",
        "plt.title(\"1-beat ECG for category F\", fontsize=20)\n",
        "plt.ylabel(\"Amplitude\", fontsize=15)\n",
        "plt.xlabel(\"Time (ms)\", fontsize=15)\n",
        "\n",
        "plt.subplot(5,1,5)\n",
        "plt.plot(x, X[C4, :][0], label=\"Cat. Q\")\n",
        "plt.title(\"1-beat ECG for category Q\", fontsize=20)\n",
        "plt.ylabel(\"Amplitude\", fontsize=15)\n",
        "plt.xlabel(\"Time (ms)\", fontsize=15)\n",
        "plt.tight_layout()\n",
        "plt.show()"
      ],
      "metadata": {
        "colab": {
          "base_uri": "https://localhost:8080/",
          "height": 873
        },
        "id": "b2NddUjOmi2l",
        "outputId": "b6129b93-f928-4579-bd4d-da1493d9cfe7"
      },
      "execution_count": 41,
      "outputs": [
        {
          "output_type": "display_data",
          "data": {
            "text/plain": [
              "<Figure size 864x864 with 5 Axes>"
            ],
            "image/png": "[encoded data removed]"
          },
          "metadata": {
            "needs_background": "light"
          }
        }
      ]
    },
    {
      "cell_type": "markdown",
      "source": [
        "**Data Cleaning**"
      ],
      "metadata": {
        "id": "vgvk5AqQENzp"
      }
    },
    {
      "cell_type": "code",
      "source": [
        "data[187] = data[187].astype('int')"
      ],
      "metadata": {
        "id": "sui6mM3-mn2O"
      },
      "execution_count": 42,
      "outputs": []
    },
    {
      "cell_type": "code",
      "source": [
        "data[187].unique()"
      ],
      "metadata": {
        "colab": {
          "base_uri": "https://localhost:8080/"
        },
        "id": "r4BljDNymsCu",
        "outputId": "c6033191-d09a-4ba2-c0a9-fb519994d48f"
      },
      "execution_count": 43,
      "outputs": [
        {
          "output_type": "execute_result",
          "data": {
            "text/plain": [
              "array([0, 1, 2, 3, 4])"
            ]
          },
          "metadata": {},
          "execution_count": 43
        }
      ]
    },
    {
      "cell_type": "code",
      "source": [
        "data[187].value_counts()"
      ],
      "metadata": {
        "colab": {
          "base_uri": "https://localhost:8080/"
        },
        "id": "2tVH5j0Xmtfu",
        "outputId": "54a5ad2f-de79-423a-faf7-5cf62426e75c"
      },
      "execution_count": 44,
      "outputs": [
        {
          "output_type": "execute_result",
          "data": {
            "text/plain": [
              "0    72471\n",
              "4     8039\n",
              "2     7236\n",
              "1     2779\n",
              "3      803\n",
              "Name: 187, dtype: int64"
            ]
          },
          "metadata": {},
          "execution_count": 44
        }
      ]
    },
    {
      "cell_type": "markdown",
      "source": [
        "**The data set is unbalanced, as can be seen. Therefore, the data needs to be balanced so that each category maintains a particular volume for which the training will be more effective. According to the distribution, category 0 has the biggest volume, while category 3 has the lowest. Therefore, we raise the volume of the other 4 categories to 20000 while decreasing the volume of category 0 to 20000.**"
      ],
      "metadata": {
        "id": "egNvxtZzETmh"
      }
    },
    {
      "cell_type": "code",
      "source": [
        "zero = data[data[187]==0].sample(20000)"
      ],
      "metadata": {
        "id": "DDGH_DAdmz3G"
      },
      "execution_count": 45,
      "outputs": []
    },
    {
      "cell_type": "code",
      "source": [
        "data.drop(data[data[187]==0].index, inplace=True)"
      ],
      "metadata": {
        "id": "jgQjB3tpm2A-"
      },
      "execution_count": 46,
      "outputs": []
    },
    {
      "cell_type": "code",
      "source": [
        "data.shape"
      ],
      "metadata": {
        "colab": {
          "base_uri": "https://localhost:8080/"
        },
        "id": "c5g2UZIMm8W2",
        "outputId": "50781525-03a7-43eb-8560-54d64d1a5b40"
      },
      "execution_count": 47,
      "outputs": [
        {
          "output_type": "execute_result",
          "data": {
            "text/plain": [
              "(15083, 188)"
            ]
          },
          "metadata": {},
          "execution_count": 47
        }
      ]
    },
    {
      "cell_type": "code",
      "source": [
        "data = pd.concat([zero, data], axis=0)"
      ],
      "metadata": {
        "id": "quzktuWVnEmW"
      },
      "execution_count": 48,
      "outputs": []
    },
    {
      "cell_type": "code",
      "source": [
        "data.shape"
      ],
      "metadata": {
        "colab": {
          "base_uri": "https://localhost:8080/"
        },
        "id": "OLV4J3MgnHWF",
        "outputId": "0d299b53-644d-4821-a294-ccf14143b6d8"
      },
      "execution_count": 49,
      "outputs": [
        {
          "output_type": "execute_result",
          "data": {
            "text/plain": [
              "(35083, 188)"
            ]
          },
          "metadata": {},
          "execution_count": 49
        }
      ]
    },
    {
      "cell_type": "code",
      "source": [
        "data[187].value_counts()"
      ],
      "metadata": {
        "colab": {
          "base_uri": "https://localhost:8080/"
        },
        "id": "iiNkRZyinJv2",
        "outputId": "49c74f9d-78e6-460d-845d-ed7908ee980c"
      },
      "execution_count": 50,
      "outputs": [
        {
          "output_type": "execute_result",
          "data": {
            "text/plain": [
              "0    20000\n",
              "4     6431\n",
              "2     5788\n",
              "1     2223\n",
              "3      641\n",
              "Name: 187, dtype: int64"
            ]
          },
          "metadata": {},
          "execution_count": 50
        }
      ]
    },
    {
      "cell_type": "code",
      "source": [
        "X = data.drop(187, axis=1)\n",
        "y = data[187]"
      ],
      "metadata": {
        "id": "Sc6Oe8USoE9l"
      },
      "execution_count": 51,
      "outputs": []
    },
    {
      "cell_type": "code",
      "source": [
        "X.shape"
      ],
      "metadata": {
        "colab": {
          "base_uri": "https://localhost:8080/"
        },
        "id": "Da9ve3ejoLT7",
        "outputId": "7931db9f-f36b-4413-b429-433f9761ae7e"
      },
      "execution_count": 52,
      "outputs": [
        {
          "output_type": "execute_result",
          "data": {
            "text/plain": [
              "(35083, 187)"
            ]
          },
          "metadata": {},
          "execution_count": 52
        }
      ]
    },
    {
      "cell_type": "code",
      "source": [
        "y.shape"
      ],
      "metadata": {
        "colab": {
          "base_uri": "https://localhost:8080/"
        },
        "id": "JYS8SnkHoSyj",
        "outputId": "a1370e6d-7e64-4738-dd6f-f569e04f0c0e"
      },
      "execution_count": 53,
      "outputs": [
        {
          "output_type": "execute_result",
          "data": {
            "text/plain": [
              "(35083,)"
            ]
          },
          "metadata": {},
          "execution_count": 53
        }
      ]
    },
    {
      "cell_type": "markdown",
      "source": [
        "**We have used smote technique to oversample the data**"
      ],
      "metadata": {
        "id": "ph-uhZyHFrbl"
      }
    },
    {
      "cell_type": "code",
      "source": [
        "smote = SMOTE()\n",
        "X_sm, y_sm = smote.fit_resample(X, y)\n",
        "y_sm.value_counts()"
      ],
      "metadata": {
        "colab": {
          "base_uri": "https://localhost:8080/"
        },
        "id": "qSf9kjNCoV08",
        "outputId": "76836c84-a633-43bd-a425-a211bbbbc2a2"
      },
      "execution_count": 54,
      "outputs": [
        {
          "output_type": "execute_result",
          "data": {
            "text/plain": [
              "0    20000\n",
              "1    20000\n",
              "2    20000\n",
              "3    20000\n",
              "4    20000\n",
              "Name: 187, dtype: int64"
            ]
          },
          "metadata": {},
          "execution_count": 54
        }
      ]
    },
    {
      "cell_type": "markdown",
      "source": [
        "**Splitting the dataset------ 80% Training and 20% Testing**"
      ],
      "metadata": {
        "id": "-d2aFT9-F6V9"
      }
    },
    {
      "cell_type": "code",
      "source": [
        "X_train, X_test, y_train, y_test = train_test_split(X_sm, y_sm, test_size=0.2, random_state=10, stratify=y_sm)"
      ],
      "metadata": {
        "id": "KjDNhLiYpZDC"
      },
      "execution_count": 57,
      "outputs": []
    },
    {
      "cell_type": "markdown",
      "source": [
        "**Training Model**"
      ],
      "metadata": {
        "id": "wMwnh1suGVRM"
      }
    },
    {
      "cell_type": "code",
      "source": [
        "model = RandomForestClassifier(n_estimators=10)\n",
        "model.fit(X_train, y_train)"
      ],
      "metadata": {
        "colab": {
          "base_uri": "https://localhost:8080/"
        },
        "id": "KoylrKCHo4us",
        "outputId": "d88ccce3-6b24-4597-9f26-3182b3d5f274"
      },
      "execution_count": 59,
      "outputs": [
        {
          "output_type": "execute_result",
          "data": {
            "text/plain": [
              "RandomForestClassifier(n_estimators=10)"
            ]
          },
          "metadata": {},
          "execution_count": 59
        }
      ]
    },
    {
      "cell_type": "markdown",
      "source": [
        "**Evaluating Model Performance**"
      ],
      "metadata": {
        "id": "E9lDiSqGGYpT"
      }
    },
    {
      "cell_type": "markdown",
      "source": [
        "**Training Accuracy**"
      ],
      "metadata": {
        "id": "EyLAUa-8RabD"
      }
    },
    {
      "cell_type": "code",
      "source": [
        "model.score(X_train, y_train)"
      ],
      "metadata": {
        "colab": {
          "base_uri": "https://localhost:8080/"
        },
        "id": "zSNtL31xpuah",
        "outputId": "16b3036d-9891-485a-ec08-ae74f2028845"
      },
      "execution_count": 60,
      "outputs": [
        {
          "output_type": "execute_result",
          "data": {
            "text/plain": [
              "0.9996"
            ]
          },
          "metadata": {},
          "execution_count": 60
        }
      ]
    },
    {
      "cell_type": "markdown",
      "source": [
        "**Testing Accuracy**"
      ],
      "metadata": {
        "id": "wH4d5BtUReJD"
      }
    },
    {
      "cell_type": "code",
      "source": [
        "model.score(X_test, y_test)"
      ],
      "metadata": {
        "colab": {
          "base_uri": "https://localhost:8080/"
        },
        "id": "Px57KbdYpyMh",
        "outputId": "ba5f62fb-2c77-4bcb-e907-657b5d405afd"
      },
      "execution_count": 61,
      "outputs": [
        {
          "output_type": "execute_result",
          "data": {
            "text/plain": [
              "0.9828"
            ]
          },
          "metadata": {},
          "execution_count": 61
        }
      ]
    },
    {
      "cell_type": "markdown",
      "source": [
        "**Prediction**"
      ],
      "metadata": {
        "id": "6Z5w3cxURiSa"
      }
    },
    {
      "cell_type": "code",
      "source": [
        "y_pred = model.predict(X_test)"
      ],
      "metadata": {
        "id": "cEPZcPOyp69E"
      },
      "execution_count": 62,
      "outputs": []
    },
    {
      "cell_type": "markdown",
      "source": [
        "**Classification Report Using Random Forest Classifier**"
      ],
      "metadata": {
        "id": "Wxum-y39GeTk"
      }
    },
    {
      "cell_type": "code",
      "source": [
        "print(\"Classification Report: \\n\", classification_report(y_test, y_pred))"
      ],
      "metadata": {
        "colab": {
          "base_uri": "https://localhost:8080/"
        },
        "id": "TSHGEiqpqDC5",
        "outputId": "5a7cafe2-56ff-480a-dc98-f4bb402247dd"
      },
      "execution_count": 63,
      "outputs": [
        {
          "output_type": "stream",
          "name": "stdout",
          "text": [
            "Classification Report: \n",
            "               precision    recall  f1-score   support\n",
            "\n",
            "           0       0.95      0.97      0.96      4000\n",
            "           1       0.98      0.98      0.98      4000\n",
            "           2       0.99      0.97      0.98      4000\n",
            "           3       0.99      0.99      0.99      4000\n",
            "           4       1.00      0.99      0.99      4000\n",
            "\n",
            "    accuracy                           0.98     20000\n",
            "   macro avg       0.98      0.98      0.98     20000\n",
            "weighted avg       0.98      0.98      0.98     20000\n",
            "\n"
          ]
        }
      ]
    },
    {
      "cell_type": "markdown",
      "source": [
        "**Now Building the Model with Neural Network (CNN + ANN)**"
      ],
      "metadata": {
        "id": "atDOgNrjGplW"
      }
    },
    {
      "cell_type": "code",
      "source": [
        "model_CNN_ANN = Sequential()\n",
        "\n",
        "model_CNN_ANN.add(Conv1D(filters=32, kernel_size=3, activation='relu', input_shape=(187, 1)))\n",
        "model_CNN_ANN.add(MaxPooling1D(pool_size=2))\n",
        "\n",
        "model_CNN_ANN.add(Flatten())\n",
        "\n",
        "model_CNN_ANN.add(Dense(256, activation='relu'))\n",
        "model_CNN_ANN.add(Dropout(0.2))\n",
        "model_CNN_ANN.add(Dense(256, activation='relu'))\n",
        "\n",
        "model_CNN_ANN.add(Dense(128, activation='relu'))\n",
        "model_CNN_ANN.add(Dropout(0.5))\n",
        "model_CNN_ANN.add(Dense(128, activation='relu'))\n",
        "\n",
        "model_CNN_ANN.add(Dense(5, activation='softmax'))"
      ],
      "metadata": {
        "id": "rZ49dVFxqR5R"
      },
      "execution_count": 64,
      "outputs": []
    },
    {
      "cell_type": "code",
      "source": [
        "model_CNN_ANN.summary()"
      ],
      "metadata": {
        "colab": {
          "base_uri": "https://localhost:8080/"
        },
        "id": "e3TOq6RcqkZf",
        "outputId": "6133a855-0d23-40d0-d22e-68e68e902939"
      },
      "execution_count": 65,
      "outputs": [
        {
          "output_type": "stream",
          "name": "stdout",
          "text": [
            "Model: \"sequential\"\n",
            "_________________________________________________________________\n",
            " Layer (type)                Output Shape              Param #   \n",
            "=================================================================\n",
            " conv1d (Conv1D)             (None, 185, 32)           128       \n",
            "                                                                 \n",
            " max_pooling1d (MaxPooling1D  (None, 92, 32)           0         \n",
            " )                                                               \n",
            "                                                                 \n",
            " flatten (Flatten)           (None, 2944)              0         \n",
            "                                                                 \n",
            " dense (Dense)               (None, 256)               753920    \n",
            "                                                                 \n",
            " dropout (Dropout)           (None, 256)               0         \n",
            "                                                                 \n",
            " dense_1 (Dense)             (None, 256)               65792     \n",
            "                                                                 \n",
            " dense_2 (Dense)             (None, 128)               32896     \n",
            "                                                                 \n",
            " dropout_1 (Dropout)         (None, 128)               0         \n",
            "                                                                 \n",
            " dense_3 (Dense)             (None, 128)               16512     \n",
            "                                                                 \n",
            " dense_4 (Dense)             (None, 5)                 645       \n",
            "                                                                 \n",
            "=================================================================\n",
            "Total params: 869,893\n",
            "Trainable params: 869,893\n",
            "Non-trainable params: 0\n",
            "_________________________________________________________________\n"
          ]
        }
      ]
    },
    {
      "cell_type": "code",
      "source": [
        "model_CNN_ANN.compile(optimizer='adam', loss=tf.keras.losses.SparseCategoricalCrossentropy(), metrics=['accuracy'])\n",
        "history = model_CNN_ANN.fit(X_train, y_train, epochs=10, batch_size=1, verbose=1)"
      ],
      "metadata": {
        "colab": {
          "base_uri": "https://localhost:8080/"
        },
        "id": "d0gk_dfMqfDI",
        "outputId": "22e93b62-c0f5-46c6-f1b2-fc3eda47ad4c"
      },
      "execution_count": 66,
      "outputs": [
        {
          "output_type": "stream",
          "name": "stdout",
          "text": [
            "Epoch 1/10\n",
            "80000/80000 [==============================] - 583s 7ms/step - loss: 0.4174 - accuracy: 0.8612\n",
            "Epoch 2/10\n",
            "80000/80000 [==============================] - 564s 7ms/step - loss: 0.3225 - accuracy: 0.9025\n",
            "Epoch 3/10\n",
            "80000/80000 [==============================] - 576s 7ms/step - loss: 0.3515 - accuracy: 0.8978\n",
            "Epoch 4/10\n",
            "80000/80000 [==============================] - 556s 7ms/step - loss: 0.3766 - accuracy: 0.8899\n",
            "Epoch 5/10\n",
            "80000/80000 [==============================] - 566s 7ms/step - loss: 0.4111 - accuracy: 0.8824\n",
            "Epoch 6/10\n",
            "80000/80000 [==============================] - 598s 7ms/step - loss: 0.4266 - accuracy: 0.8763\n",
            "Epoch 7/10\n",
            "80000/80000 [==============================] - 594s 7ms/step - loss: 0.4679 - accuracy: 0.8673\n",
            "Epoch 8/10\n",
            "80000/80000 [==============================] - 570s 7ms/step - loss: 0.5158 - accuracy: 0.8557\n",
            "Epoch 9/10\n",
            "80000/80000 [==============================] - 558s 7ms/step - loss: 0.5189 - accuracy: 0.8582\n",
            "Epoch 10/10\n",
            "80000/80000 [==============================] - 562s 7ms/step - loss: 0.5989 - accuracy: 0.8309\n"
          ]
        }
      ]
    },
    {
      "cell_type": "markdown",
      "source": [
        "**Evaluating Model Performance**"
      ],
      "metadata": {
        "id": "8NyCkT_wG6lE"
      }
    },
    {
      "cell_type": "markdown",
      "source": [
        "**Training Accuracy**"
      ],
      "metadata": {
        "id": "Rvf9VToaRFhr"
      }
    },
    {
      "cell_type": "code",
      "source": [
        "model_CNN_ANN.evaluate(X_train, y_train)"
      ],
      "metadata": {
        "colab": {
          "base_uri": "https://localhost:8080/"
        },
        "id": "WrM-6kegq6rX",
        "outputId": "0fc3c851-b40c-4d51-f2fa-fcee8e548015"
      },
      "execution_count": 67,
      "outputs": [
        {
          "output_type": "stream",
          "name": "stdout",
          "text": [
            "2500/2500 [==============================] - 14s 6ms/step - loss: 0.3236 - accuracy: 0.9057\n"
          ]
        },
        {
          "output_type": "execute_result",
          "data": {
            "text/plain": [
              "[0.3235969841480255, 0.9056500196456909]"
            ]
          },
          "metadata": {},
          "execution_count": 67
        }
      ]
    },
    {
      "cell_type": "markdown",
      "source": [
        "**Testing Accuracy**"
      ],
      "metadata": {
        "id": "Mkd8WNuwRLyi"
      }
    },
    {
      "cell_type": "code",
      "source": [
        "model_CNN_ANN.evaluate(X_test, y_test)"
      ],
      "metadata": {
        "colab": {
          "base_uri": "https://localhost:8080/"
        },
        "id": "VU1MtKasr7UQ",
        "outputId": "e6c67a24-6b1d-42d8-98a8-73cbcde228d3"
      },
      "execution_count": 68,
      "outputs": [
        {
          "output_type": "stream",
          "name": "stdout",
          "text": [
            "625/625 [==============================] - 3s 5ms/step - loss: 0.3494 - accuracy: 0.8971\n"
          ]
        },
        {
          "output_type": "execute_result",
          "data": {
            "text/plain": [
              "[0.3494149446487427, 0.8970500230789185]"
            ]
          },
          "metadata": {},
          "execution_count": 68
        }
      ]
    },
    {
      "cell_type": "markdown",
      "source": [
        "**Prediction**"
      ],
      "metadata": {
        "id": "biPRwlsuRTs7"
      }
    },
    {
      "cell_type": "code",
      "source": [
        "result = model_CNN_ANN.predict(X_test)\n",
        "result = result.argmax(axis=1)"
      ],
      "metadata": {
        "colab": {
          "base_uri": "https://localhost:8080/"
        },
        "id": "sK_6beU9so5O",
        "outputId": "00f08519-f8ce-4c3d-85d4-5efe7039e2a6"
      },
      "execution_count": 74,
      "outputs": [
        {
          "output_type": "stream",
          "name": "stdout",
          "text": [
            "625/625 [==============================] - 3s 5ms/step\n"
          ]
        }
      ]
    },
    {
      "cell_type": "markdown",
      "source": [
        "**Accuracy VS Loss Plotting**"
      ],
      "metadata": {
        "id": "N9uwnItZHp0i"
      }
    },
    {
      "cell_type": "code",
      "source": [
        "plt.figure(figsize=(15,5))\n",
        "plt.subplot(1,2,1)\n",
        "plt.plot(history.history['accuracy'])\n",
        "plt.plot(history.history['loss'])\n",
        "plt.title('model accuracy')\n",
        "plt.ylabel('accuracy')\n",
        "plt.xlabel('epoch')\n",
        "plt.legend(['acc','loss'], loc='lower right')\n",
        "plt.show()"
      ],
      "metadata": {
        "colab": {
          "base_uri": "https://localhost:8080/",
          "height": 350
        },
        "id": "0LRY88ua3dP-",
        "outputId": "cf389f43-0c7b-4fd4-dd09-ca1be8744cfb"
      },
      "execution_count": 78,
      "outputs": [
        {
          "output_type": "display_data",
          "data": {
            "text/plain": [
              "<Figure size 1080x360 with 1 Axes>"
            ],
            "image/png": "[encoded data removed]"
          },
          "metadata": {
            "needs_background": "light"
          }
        }
      ]
    },
    {
      "cell_type": "markdown",
      "source": [
        "**Classification Report Using Neural Network (CNN + ANN)**"
      ],
      "metadata": {
        "id": "WkaYe8VeG-nd"
      }
    },
    {
      "cell_type": "code",
      "source": [
        "print(\"Classification Report: \\n\", classification_report(y_test, result))"
      ],
      "metadata": {
        "colab": {
          "base_uri": "https://localhost:8080/"
        },
        "id": "esaR2P7QsrUM",
        "outputId": "7381d24f-20e8-4792-b2ec-834ea5fe72e8"
      },
      "execution_count": 75,
      "outputs": [
        {
          "output_type": "stream",
          "name": "stdout",
          "text": [
            "Classification Report: \n",
            "               precision    recall  f1-score   support\n",
            "\n",
            "           0       0.79      0.84      0.81      4000\n",
            "           1       0.92      0.86      0.89      4000\n",
            "           2       0.89      0.91      0.90      4000\n",
            "           3       0.92      0.91      0.91      4000\n",
            "           4       0.97      0.96      0.96      4000\n",
            "\n",
            "    accuracy                           0.90     20000\n",
            "   macro avg       0.90      0.90      0.90     20000\n",
            "weighted avg       0.90      0.90      0.90     20000\n",
            "\n"
          ]
        }
      ]
    },
    {
      "cell_type": "markdown",
      "source": [
        "**Comparing the Two Classifier**"
      ],
      "metadata": {
        "id": "p6s8wMOcJ0Df"
      }
    },
    {
      "cell_type": "markdown",
      "source": [
        "**Random Forest Classifier**\n",
        "\n",
        "\n",
        "\n",
        "\n",
        "![RF.png](data:image/png;base64,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)"
      ],
      "metadata": {
        "id": "OC9kK2RVJfSo"
      }
    },
    {
      "cell_type": "markdown",
      "source": [
        "**Neural Network (CNN + ANN)**\n",
        "\n",
        "\n",
        "\n",
        "\n",
        "![NN.png](data:image/png;base64,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)"
      ],
      "metadata": {
        "id": "R5j2vKYAJ31f"
      }
    },
    {
      "cell_type": "markdown",
      "source": [
        "**Conclusion**"
      ],
      "metadata": {
        "id": "7EQ0KKamKPTG"
      }
    },
    {
      "cell_type": "markdown",
      "source": [
        "When comparing the two models, it can be shown that the random forest classifier performs better overall. While neural networks perform well, they fall short of random forests in this regard. Compared to neural networks, random forests have higher precision, recall, and f1 score values for all five categories. The Random Forest will therefore be chosen for model training."
      ],
      "metadata": {
        "id": "RFv4QPoqMUnk"
      }
    },
    {
      "cell_type": "markdown",
      "source": [
        "**Saving the model**"
      ],
      "metadata": {
        "id": "9AogyS8lIJT6"
      }
    },
    {
      "cell_type": "code",
      "source": [
        "#model_CNN_ANN.save(\"/content/drive/MyDrive/Work/Thesis/model_CNN_ANN.h5\")"
      ],
      "metadata": {
        "id": "vWkBJtzYCWxT"
      },
      "execution_count": 77,
      "outputs": []
    },
    {
      "cell_type": "markdown",
      "source": [
        "**For Loading the model**"
      ],
      "metadata": {
        "id": "ozvpeTN1C9Ax"
      }
    },
    {
      "cell_type": "code",
      "source": [
        "#model_CNN_ANN = keras.models.load_model(\"/content/drive/MyDrive/Work/Thesis/model_CNN_ANN.h5\")"
      ],
      "metadata": {
        "id": "RTvdk9TrC2sp"
      },
      "execution_count": null,
      "outputs": []
    }
  ]
}